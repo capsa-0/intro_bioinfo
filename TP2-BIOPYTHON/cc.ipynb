{
  "cells": [
    {
      "cell_type": "markdown",
      "source": [
        "<center>\n",
        "<img src=\"https://drive.google.com/uc?id=1cwPX7BgVIwtG7Rpd9FQGdfOxaVrgaR59\" alt=\"Descripción\" width=\"178\">\n",
        "\n",
        "<img src=\"https://drive.google.com/uc?id=1bLJqVtTvaYSS46sJ_VSVmY7j8QgfhAln\" alt=\"Descripción\" width=\"100\">\n",
        "</center>\n",
        "\n",
        "---\n",
        "# **Bioinformática 2025**\n",
        "\n",
        "---"
      ],
      "metadata": {
        "id": "-tARUIO6R8bP"
      }
    },
    {
      "cell_type": "markdown",
      "metadata": {
        "id": "kp0SprqcR7UA"
      },
      "source": [
        "# Bioinformática 2025 - TP Nº2: Biopython\n",
        "\n",
        "El objetivo general de esta práctica es trabajar con diferentes funciones “útiles” asociadas al manejo de secuencias biológicas."
      ]
    },
    {
      "cell_type": "markdown",
      "metadata": {
        "id": "Srvlib2XR7UD"
      },
      "source": [
        "# Módulo 1 - Manejo de secuencias (e integración con Biopython).\n",
        "\n",
        "En este primer módulo haremos una primera aproximación a biopython con diferentes tipos de registros de tipo Seq (formato FASTA, genebank).\n",
        "Analizaremos, desde un punto de vista bioinformático secuencias y alfabetos, los procesos de transcripción y traducción.\n"
      ]
    },
    {
      "cell_type": "markdown",
      "source": [
        "## Objetivo 1) Generar y analizar secuencias de Proteína al azar\n",
        "\n",
        "En este primer objetivo trabajaremos un poco con el azar, la idea es generar secuencias al azar (o sea sin contenido de información) para luego poder contrastarlas con secuencias reales y analizar sus características.\n",
        "\n",
        "Lo primero que hay que considerar es\n",
        "como en Python obtener “azar”. Una buena manera es usar un generador de números al azar. Esto es útil en muchas aplicaciones más allá del estudio de secuencias.\n",
        "\n"
      ],
      "metadata": {
        "id": "jpRCThAH0lzl"
      }
    },
    {
      "cell_type": "markdown",
      "source": [
        "Para eso pruebe el siguiente código:\n",
        "\n"
      ],
      "metadata": {
        "id": "CKJIfsyU1U6x"
      }
    },
    {
      "cell_type": "code",
      "source": [
        "import random\n",
        "for i in range(10):\n",
        "    value = random.random()\n",
        "    print(value)\n",
        "#===> ¿Qué deduce usted del código?"
      ],
      "metadata": {
        "id": "gEBTnjbL1bCx"
      },
      "execution_count": null,
      "outputs": []
    },
    {
      "cell_type": "markdown",
      "source": [
        "Nota: en python el comando “import X” nos trae la biblioteca X y todas sus funciones, luego si queremos utilizar alguna de ellas usamos X.funcion_a_usar(parámetros de la función), como vimos en el tp anterior.\n",
        "\n",
        "**Random** (explorela en google) tiene otras funciones interesantes como son (pruebalas):\n",
        "\n",
        "random.randint(a,b) con a y  b enteros\n",
        "\n",
        "random.gauss(a,b)\n",
        "y funciones que actúan sobre listas\n",
        "\n",
        "Pruebe el siguiente código:\n"
      ],
      "metadata": {
        "id": "_KWk65Gq1hfI"
      }
    },
    {
      "cell_type": "code",
      "source": [
        "lista=['a','b','c']\n",
        "elec_al_azar=random.choice(lista)\n",
        "#print(elec_al_azar)\n",
        "\n",
        "sub_lista=random.sample(lista,2)\n",
        "#print(sub_lista)\n",
        "\n",
        "lista_mezclada=lista\n",
        "random.shuffle(lista_mezclada)\n",
        "# print(lista_mezclada)\n"
      ],
      "metadata": {
        "id": "PFXPHDIl1vpG"
      },
      "execution_count": null,
      "outputs": []
    },
    {
      "cell_type": "markdown",
      "metadata": {
        "id": "1xgvMKoER7UE"
      },
      "source": [
        "### Ejercicio 1A: Secuencias aleatorias\n",
        "\n",
        "Utilizando las funciones random, y lo que aprendimos la clase pasada ahora vamos a generar y estudiar diferentes secuencias al azar.\n",
        "\n"
      ]
    },
    {
      "cell_type": "markdown",
      "source": [
        "#### 1A Proteinas aleatorias\n",
        "**I:** Escriba un código que genere secuencias de proteínas al azar de un largo preestablecido por el usuario.\n",
        "\n",
        "**II:** Modifique el mismo tal que sea posible indicar la frecuencia o probabilidad de ocurrencia de cada uno de los 20 aminoácidos.\n",
        "\n",
        "*Ayuda:* Puede definir un diccionario con frecuencias y usar:\n",
        "\n",
        ">>> numpy.random.choice()."
      ],
      "metadata": {
        "id": "cngQi0gz2XQf"
      }
    },
    {
      "cell_type": "code",
      "execution_count": null,
      "metadata": {
        "id": "r5-MXEyXR7UF"
      },
      "outputs": [],
      "source": [
        "# Ingrese su codigo aqui"
      ]
    },
    {
      "cell_type": "markdown",
      "metadata": {
        "id": "iA210yw2R7UH"
      },
      "source": [
        "#### 1B: Frecuencias en secuencias\n",
        "\n"
      ]
    },
    {
      "cell_type": "markdown",
      "source": [
        "**I:** la frecuencia de cada uno de los 20 aminoácidos (para un set de secuencias de proteínas) y para una secuencia de ADN a partir de los codones correspondientes.\n",
        "\n",
        "**II:** Que el código sea capaz de mostrar los resultados en un gráfico de barras.\n",
        "\n",
        "**III:** Ahora analice y discuta los resultados obtenidos, preste particular atención a los siguientes puntos:\n",
        "\n",
        "**IV:**¿Cómo se comparan la distribución de aminoácidos respecto las generadas para proteínas al azar?\n"
      ],
      "metadata": {
        "id": "fDAe9uOC21e3"
      }
    },
    {
      "cell_type": "code",
      "execution_count": null,
      "metadata": {
        "id": "9iy6zZ6LR7UI"
      },
      "outputs": [],
      "source": [
        "# Ingrese su codigo aqui"
      ]
    },
    {
      "cell_type": "markdown",
      "source": [
        "**Paréntesis:** Gráficos en python\n",
        "\n",
        "Existen muchas librerías para hacer gráficos en python, quizás la más conocida sea matplotlib. Otras, son seaborn, o la que usa alguno de los docentes plotly, y seguramente haya muchas más. Todas son parecidas y le recomendamos elija una y vaya de a poco aprendiendo a utilizarla, ya que lo acompañara a lo largo de toda la cursada y eventualmente el futuro.\n",
        "\n",
        "Les dejamos para que se entretengan algunos ejemplos con plotly:\n",
        "\n"
      ],
      "metadata": {
        "id": "VC18j1c63MKA"
      }
    },
    {
      "cell_type": "code",
      "source": [
        "import random\n",
        "import plotly.graph_objects as go  # Import Plotly's graph objects module\n",
        "\n",
        "random_numbers = [random.random() for _ in range(10)]\n",
        "x_values = list(range(1, 11))  # Numbers from 1 to 10\n",
        "y_values = random_numbers     # Random numbers between 0 and 1\n",
        "\n",
        "# Create Bar plot using Plotly\n",
        "fig = go.Figure()\n",
        "fig.add_trace(go.Bar(x=x_values, y=y_values))\n",
        "fig.show()"
      ],
      "metadata": {
        "id": "e9M0iibu2F2z"
      },
      "execution_count": null,
      "outputs": []
    },
    {
      "cell_type": "code",
      "source": [
        "# Create the scatter plot\n",
        "fig = go.Figure()\n",
        "fig.add_trace(go.Scatter(x=x_values, y=y_values, mode='markers'))\n",
        "fig.show()"
      ],
      "metadata": {
        "collapsed": true,
        "id": "SBtWE-o42Khq"
      },
      "execution_count": null,
      "outputs": []
    },
    {
      "cell_type": "code",
      "source": [
        "# Create Line  plot\n",
        "fig = go.Figure()\n",
        "fig.add_trace(go.Scatter(x=x_values, y=y_values, mode='lines'))\n",
        "fig.show()\n"
      ],
      "metadata": {
        "collapsed": true,
        "id": "3TBtN6Kl2M-Q"
      },
      "execution_count": null,
      "outputs": []
    },
    {
      "cell_type": "code",
      "source": [
        "# Create Histogram\n",
        "random_numbers = [random.random() for _ in range(1000)]\n",
        "y_values = random_numbers     # Random numbers between 0 and 1\n",
        "fig = go.Figure()\n",
        "fig.add_trace(go.Histogram(x=y_values,histnorm='probability',nbinsx=10))\n",
        "fig.show()\n"
      ],
      "metadata": {
        "collapsed": true,
        "id": "vYLWpmt32OLT"
      },
      "execution_count": null,
      "outputs": []
    },
    {
      "cell_type": "markdown",
      "metadata": {
        "id": "plNaycPxR7UL"
      },
      "source": [
        "## Objetivo 2: Introducción y uso de biopython\n",
        "\n",
        "Biopython: “Biopython (biopython.org) is a set of freely available tools for biological computation written in Python by an international team of developers”, y como no queremos reinventar la rueda lo vamos a usar a full\n",
        "\n",
        "se instala con: pip3 -install biopython (en linea de comando OJO)\n"
      ]
    },
    {
      "cell_type": "markdown",
      "source": [
        "**Para instalar Biopython en Google Colab, ejecutar la siguiente celda:**"
      ],
      "metadata": {
        "id": "6VB7GBZsJV_7"
      }
    },
    {
      "cell_type": "code",
      "source": [
        "!pip install biopython"
      ],
      "metadata": {
        "id": "Psq0XptpJSkP"
      },
      "execution_count": null,
      "outputs": []
    },
    {
      "cell_type": "markdown",
      "source": [
        "Ahora manos a la obra…\n",
        "Las secuencias en Biopython son algo más que un String de caracteres (si bien uno los puede tratar como tales). La clave está en que los “objetos secuencia” tienen asociado un alfabeto que nos dice que significan las letras en la misma y que nos permite hacer  de manera fácil varias cosas.\n"
      ],
      "metadata": {
        "id": "_VQH7wkn33IR"
      }
    },
    {
      "cell_type": "code",
      "source": [
        "from Bio.Seq import Seq\n",
        "from Bio.SeqUtils import gc_fraction\n",
        "\n",
        "# Ejemplo: Crear una secuencia de ADN\n",
        "my_seq = Seq(\"AGTACACTGGT\")\n",
        "print(\"Secuencia de ADN:\", my_seq)\n",
        "\n",
        "# Crear una secuencia de proteína (se utiliza la misma secuencia de letras)\n",
        "my_prot = Seq(\"AGTACACTGGT\")\n",
        "print(\"Secuencia de proteína:\", my_prot)\n",
        "\n",
        "# Usando comandos básicos de string para calcular el contenido de GC\n",
        "print(\"Longitud de my_seq:\", len(my_seq))\n",
        "print(\"Conteo de 'G' en my_seq:\", my_seq.count(\"G\"))\n",
        "manual_gc = 100 * float(my_seq.count(\"G\") + my_seq.count(\"C\")) / len(my_seq)\n",
        "print(\"Contenido GC (método manual):\", manual_gc)\n",
        "\n",
        "# Utilizando la función de Biopython (gc_fraction devuelve la fracción, se multiplica por 100 para obtener el porcentaje)\n",
        "gc_content = gc_fraction(my_seq) * 100\n",
        "print(\"Contenido GC (gc_fraction):\", gc_content)\n",
        "\n",
        "# Operaciones adicionales con la secuencia\n",
        "my_seq = Seq(\"GATCGATGGGCCTATATAGGATCGAAAATCTAAGCC\")\n",
        "print(\"\\nSecuencia:\", my_seq)\n",
        "print(\"Longitud:\", len(my_seq))\n",
        "print(\"Complementaria:\", my_seq.complement())\n",
        "print(\"Reverso complementaria:\", my_seq.reverse_complement())\n",
        "print(\"Transcrita:\", my_seq.transcribe())\n",
        "print(\"Traducida:\", my_seq.translate())"
      ],
      "metadata": {
        "collapsed": true,
        "id": "LyBXPWTO2kkO"
      },
      "execution_count": null,
      "outputs": []
    },
    {
      "cell_type": "markdown",
      "source": [
        "Nota: The translation tables available in Biopython are based on those from the NCBI (see the next section of this tutorial). By default, translation will use the standard genetic code (NCBI table id 1)."
      ],
      "metadata": {
        "id": "pjVwayif2wRU"
      }
    },
    {
      "cell_type": "markdown",
      "source": [
        "### Ejercicio 2 Introduccion Biopython"
      ],
      "metadata": {
        "id": "6ckTAO0k4Aag"
      }
    },
    {
      "cell_type": "markdown",
      "source": [
        "#### 2A\n",
        "\n",
        "Utilice Biopython para trabajar con las secuencias de ADN generadas aleatoriamente:\n",
        "\n",
        "**I:** Obtenga la secuencia reversa complementaria y compare el contenido de GC con la secuencia original.\n",
        "\n",
        "**II:** Traduzca la secuencia y obtenga la distribución de largo de los ORFs (compare con los resultados anteriores)."
      ],
      "metadata": {
        "id": "ZfwHuOja2i4T"
      }
    },
    {
      "cell_type": "code",
      "execution_count": null,
      "metadata": {
        "id": "V7Xqmy2qR7UM"
      },
      "outputs": [],
      "source": [
        "# Ingrese su codigo aqui"
      ]
    },
    {
      "cell_type": "markdown",
      "metadata": {
        "id": "Yj1NBB9fR7UM"
      },
      "source": [
        "## Objetivo 3: Descarga de secuencias y manejo de las mismas\n",
        "\n",
        "\n"
      ]
    },
    {
      "cell_type": "markdown",
      "source": [
        "Para Manejos de secuencia avanzados (registros de geneBank etc.) con anotaciones, biopython utiliza el objeto “SeqRecord” que se puede leer/escribir en diferentes formatos utilizando el Bio.SeqIO (Input/Output)\n",
        "Con los siguientes comandos se puede dar una idea de todo lo que puede hacer…"
      ],
      "metadata": {
        "id": "iNywCiR14TrZ"
      }
    },
    {
      "cell_type": "code",
      "source": [
        "from Bio.SeqRecord import SeqRecord\n",
        "help(SeqRecord)\n"
      ],
      "metadata": {
        "id": "o7GocDQrK3nd"
      },
      "execution_count": null,
      "outputs": []
    },
    {
      "cell_type": "markdown",
      "source": [
        "Una manera de cargar un registro seqRecord es levantando un fasta (de disco), entonces carguemos un fasta en la variable mi_fasta\n",
        "\n",
        "mi_fasta = SeqIO.read(\"SU FASTA FILE\", \"fasta\")\n",
        "\n",
        "También se puede utilizar un archivo de genebank con SeqIO.read(\"SU gene bank file\", \"genbank\")"
      ],
      "metadata": {
        "id": "FdrobFjF4XfJ"
      }
    },
    {
      "cell_type": "markdown",
      "source": [
        "**Para chequar la importacion de archivos puntuales a analizar desde tu computadora al entorno de Google Colab>**"
      ],
      "metadata": {
        "id": "ZugA5zUVPbLN"
      }
    },
    {
      "cell_type": "code",
      "source": [
        "!ls #Para ver los archivos subidos en el directorio de trabajo"
      ],
      "metadata": {
        "id": "15IEGHtgPUfi"
      },
      "execution_count": null,
      "outputs": []
    },
    {
      "cell_type": "code",
      "source": [
        "from google.colab import files  #Para elegir el archivo de tu computadora. Se puede cargar manualmente tambien arrastrandolo a la carpeta de la izquierda\n",
        "uploaded = files.upload()"
      ],
      "metadata": {
        "id": "R8um4J_wPoaS"
      },
      "execution_count": null,
      "outputs": []
    },
    {
      "cell_type": "code",
      "source": [
        "!ls #Para corroborar que se subieron los archivos al directorio de trabajo"
      ],
      "metadata": {
        "id": "4qD6RVpGPn8Q"
      },
      "execution_count": null,
      "outputs": []
    },
    {
      "cell_type": "markdown",
      "source": [
        "\n",
        "### Ejercicio 3A ADN\n",
        "\n"
      ],
      "metadata": {
        "id": "-14fNYhIyBP6"
      }
    },
    {
      "cell_type": "markdown",
      "source": [
        "#### 3Ai) Descarga ADN y análisis\n",
        "Elija un registro de geneBank y bajelo en formato fasta y gb (GenBank),  levantelos con Biopython utilizando \"Bio.SeqIO\" y explore sus atributos (record,  record.id, record.name, record.description, etc.)\n",
        "\n",
        "*¿Es capaz de obtener “solo” la secuencia y convertirla en un “string” para manipularla?*\n"
      ],
      "metadata": {
        "id": "Mf2Psel46B-E"
      }
    },
    {
      "cell_type": "code",
      "execution_count": null,
      "metadata": {
        "id": "vsjFNIEpR7UM"
      },
      "outputs": [],
      "source": [
        "# Ingrese su codigo aqui"
      ]
    },
    {
      "cell_type": "markdown",
      "source": [
        "#### 3Aii)\n",
        "\n",
        "Descargue la misma secuencia automáticamente usando Biopython.\n",
        "Ayuda: Use Entrez.efetch() de Biopython para acceder a GenBank."
      ],
      "metadata": {
        "id": "y-dNpjxC6F-A"
      }
    },
    {
      "cell_type": "code",
      "source": [],
      "metadata": {
        "id": "I2ElJOgO6qiE"
      },
      "execution_count": null,
      "outputs": []
    },
    {
      "cell_type": "markdown",
      "source": [
        "### Ejercicio 3B Proteinas\n",
        "\n",
        "Ahora usemos biopython para bajar proteínas, para ello trabajaremos con los códigos de Uniprot (¿por qué?). Vaya a la página de Uniprot (u a otra si quiere) y baja el registro de la proteína en formato texto (el formato parsa biopython es el de swiss prot = ‘swiss). Para cargar el registro correspondiente en biopython usamos el siguiente codigo."
      ],
      "metadata": {
        "id": "DzeXu2pI6iYr"
      }
    },
    {
      "cell_type": "code",
      "source": [
        "prot_record = SeqIO.read('mi_uniprot.txt', \"swiss\") #reemplazar mi_uniprot por el nombre de nuestra proteina de interes\n",
        "\n",
        "print(prot_record.id)\n"
      ],
      "metadata": {
        "id": "dMnPLa4JTOCa"
      },
      "execution_count": null,
      "outputs": []
    },
    {
      "cell_type": "markdown",
      "metadata": {
        "id": "q5ySVPGlR7UN"
      },
      "source": [
        "####  3Bi: Descarga secuencia de Proteína y análisis\n",
        "\n",
        "Pruébelo para alguna proteína que le interesa, investigue un poco que puede hacer con el registro (use tab para ayudarse)\n"
      ]
    },
    {
      "cell_type": "code",
      "source": [],
      "metadata": {
        "id": "UI1AWYaG6znq"
      },
      "execution_count": null,
      "outputs": []
    },
    {
      "cell_type": "markdown",
      "source": [
        "#### 3Bii:\n",
        "\n",
        "Ahora vamos a bajarlo directamente de la web para usamos ExPASy (puede ver si hay otras..)\n"
      ],
      "metadata": {
        "id": "St3wWGfuzC3r"
      }
    },
    {
      "cell_type": "code",
      "source": [
        "# Ingrese su codigo aqui\n",
        "from Bio import ExPASy\n",
        "from Bio import SwissProt\n",
        "handle = ExPASy.get_sprot_raw(\"CODIGO\")\n",
        "record = SwissProt.read(handle)\n",
        "handle.close()\n",
        "print(record.entry_name)\n"
      ],
      "metadata": {
        "id": "yprtgh2_zDK6"
      },
      "execution_count": null,
      "outputs": []
    },
    {
      "cell_type": "markdown",
      "source": [
        "#### 3Biii\n",
        "\n",
        "Combine lo aprendido en la clase previas (for / while loops) y/o la información disponible en biopython para cargar un conjunto de secuencias de ADN y/o proteínas. (Puede bajarlos manualmente a disco y realizar código para cargarlos y/o hacer el código que los baje directamente de internet).\n",
        "\n",
        "Obtenga solo las secuencias como cadenas de caracteres y guardelas en una lista tal que cada elemento de la lista sea una de las secuencias."
      ],
      "metadata": {
        "id": "fGxtV3Dn67uk"
      }
    },
    {
      "cell_type": "code",
      "source": [],
      "metadata": {
        "id": "rQRNa_5w7AW0"
      },
      "execution_count": null,
      "outputs": []
    },
    {
      "cell_type": "markdown",
      "metadata": {
        "id": "oeQNKnghR7UN"
      },
      "source": [
        "## Objetivo 4: Mis primeros programas bioinformáticos y análisis de secuencias avanzado. Para entregar en el informe.\n",
        "\n",
        "Ahora combinaremos todo lo aprendido anteriormente para realizar nuestro primer programa bioinformático que consiste en un detector de ORFs a partir de una secuencia de ADN (que podría provenir de un genoma). Como cualquier programa complejo, el mismo va utilizar diferentes módulos y además requerirá combinar código de diferentes miembros del grupo, el objetivo entonces es:\n",
        "i) organizar un programa complejo en módulos de código, y\n",
        "ii) trabajar en equipo.\n",
        "\n",
        "Para facilitar esta tarea, el ejercicio 4 está dividido en módulos/secciones.\n",
        "\n",
        "===> Como grupo traten primero de organizar el código general y luego repartan y organicen cada módulo.\n"
      ]
    },
    {
      "cell_type": "markdown",
      "metadata": {
        "id": "_Ekgfkk9R7UO"
      },
      "source": [
        "### Ejercicio 4) Comparación de distribuciones\n",
        "\n",
        "Escribir un código que dada una secuencia de ADN determine los ORF y les asigne una probabilidad de ser (o no) un gen/exón.\n",
        "\n",
        "Para ello deberia comparar el largo del ORF y la distribucion de aminoacidos de la secuencia traducida con eso mismo en secuencias naturales y en secuencias al azar.\n",
        "\n"
      ]
    },
    {
      "cell_type": "markdown",
      "source": [
        "**Compare gráficamente las siguientes distribuciones**\n",
        "\n",
        "#### 4a:\n",
        "Distribución de aminoácidos de secuencia de proteínas al azar vs secuencias de proteínas reales.\n",
        "\n",
        "\n"
      ],
      "metadata": {
        "id": "_l3R9-e-7hm8"
      }
    },
    {
      "cell_type": "code",
      "source": [
        "# Ingrese su codigo aqui"
      ],
      "metadata": {
        "id": "3kkBny8D70AJ"
      },
      "execution_count": null,
      "outputs": []
    },
    {
      "cell_type": "markdown",
      "source": [
        "#### 4b:\n",
        " Analice cómo cambian las distribuciones al aumentar el tamaño de la secuencia “al azar” analizada, y al incrementar el número de secuencias reales analizadas. ¿Cuándo es suficiente?\n",
        "\n",
        "***Ayuda***: seaborn.histplot() o matplotlib.pyplot.hist() pueden ayudar con las comparaciones"
      ],
      "metadata": {
        "id": "BGFI8zen7vtc"
      }
    },
    {
      "cell_type": "code",
      "execution_count": null,
      "metadata": {
        "id": "gUZm5mBKR7UO"
      },
      "outputs": [],
      "source": [
        "# Ingrese su codigo aqui"
      ]
    },
    {
      "cell_type": "markdown",
      "source": [
        "Habrá notado que en los ejercicios anteriores sería muy útil tener una métrica  (programada) que permita comparar distribuciones. Existen numerosas métricas estadísticas que permiten comparar distribuciones (i,e chi cuadrado),  una muy simple es determinar la diferencia cuadrática media de cada uno de los “bins” del histograma de la distribución."
      ],
      "metadata": {
        "id": "45fQP7P-72tp"
      }
    },
    {
      "cell_type": "markdown",
      "source": [
        "**Comparación de distribuciones con métricas.**\n",
        "\n",
        "#### 4c:\n",
        "Elija una métrica que permita comparar dos distribuciones. (p.ej., chi-cuadrado, MSE).\n",
        "\n"
      ],
      "metadata": {
        "id": "X66XbP1P7-U3"
      }
    },
    {
      "cell_type": "code",
      "source": [
        "# Ingrese su codigo aqui"
      ],
      "metadata": {
        "id": "0tPR7jqa8GSr"
      },
      "execution_count": null,
      "outputs": []
    },
    {
      "cell_type": "markdown",
      "source": [
        "#### 4d:\n",
        "\n",
        "Escriba un código que dadas dos distribuciones las compare y obtenga la métrica correspondiente. Utilicela para:\n",
        "\n",
        "***i:** ver como evoluciona las distribuciones obtenidas en 4a(i) al aumentar el tamaño de la muestra.\n",
        "\n",
        "**ii:** estudiar de manera sistemática las diferencias entre las distribuciones obtenidas en 4a para diferentes muestras.\n"
      ],
      "metadata": {
        "id": "roxtUqP88IgT"
      }
    },
    {
      "cell_type": "code",
      "source": [
        "# Ingrese su codigo aqui"
      ],
      "metadata": {
        "id": "6xISv-9Y8yYa"
      },
      "execution_count": null,
      "outputs": []
    },
    {
      "cell_type": "markdown",
      "source": [
        "Ahora ya usted y su grupo deberían tener todos los elementos necesarios para realizar un programa que sea capaz de, dada una secuencia de ADN detectar los posibles ORFs y asignarles una probabilidad de efectivamente corresponder a una secuencia codificante."
      ],
      "metadata": {
        "id": "VJ7-iLXY8h3t"
      }
    },
    {
      "cell_type": "markdown",
      "source": [
        "#### 4e: Detector de ORFs\n",
        "\n",
        "Con todo lo aprendido anteriormente escriba un código que:\n",
        "\n",
        "**i:** levante una secuencia de ADN\n",
        "\n",
        "**ii:** Obtenga los 6 marcos de lectura posibles y determine los ORFs de cada uno de ellos.\n",
        "\n",
        "**iii:** Para cada ORF determine a) la longitud del mismo y b) la distribución de aminoácidos.\n",
        "\n",
        "**iv:** En base a lo analizado previamente determine a partir del largo y la distribución una probabilidad de corresponder (o no) a una región codificante.\n",
        "\n",
        "**v:** Para probar su programa diseñe: a) un control positivo b) un control negativo, luego obtenga de alguna base de datos de secuencias genómicas la secuencia de un gen eucariota completo y corra su programa. Compare sus resultados con lo esperado.\n",
        "¿Qué modificaciones podría agregar para mejorar su capacidad predictiva?\n"
      ],
      "metadata": {
        "id": "oeL-gUHq8mje"
      }
    },
    {
      "cell_type": "code",
      "source": [
        "# Ingrese su codigo aqui"
      ],
      "metadata": {
        "id": "Rg2quKqR8w5K"
      },
      "execution_count": null,
      "outputs": []
    },
    {
      "cell_type": "markdown",
      "source": [
        "# Material de referencia\n",
        "\n",
        "Tutorial de Biopython: https://biopython.org/wiki/Documentation\n",
        "Documentación de SeqIO: https://biopython.org/wiki/SeqIO\n",
        "Base de datos de UniProt: https://www.uniprot.org/\n",
        "Base de datos GenBank: https://www.ncbi.nlm.nih.gov/genbank/\n"
      ],
      "metadata": {
        "id": "F87dQckM82tn"
      }
    }
  ],
  "metadata": {
    "kernelspec": {
      "display_name": "Python 3 (ipykernel)",
      "language": "python",
      "name": "python3"
    },
    "language_info": {
      "codemirror_mode": {
        "name": "ipython",
        "version": 3
      },
      "file_extension": ".py",
      "mimetype": "text/x-python",
      "name": "python",
      "nbconvert_exporter": "python",
      "pygments_lexer": "ipython3",
      "version": "3.9.12"
    },
    "colab": {
      "provenance": []
    }
  },
  "nbformat": 4,
  "nbformat_minor": 0
}