{
 "cells": [
  {
   "cell_type": "code",
   "execution_count": 25,
   "id": "a7417d94",
   "metadata": {},
   "outputs": [
    {
     "name": "stdout",
     "output_type": "stream",
     "text": [
      "{'Cgb-HbA2': 69.8, 'Cgb-HbB': 74.15, 'Cgb-Mb': 73.6, 'HbA2-Cgb': 69.8, 'HbA2-HbB': 113.0, 'HbA2-Mb': 52.8}\n",
      "(HbA2-HbB)\n",
      "Cgb-HbA2\n",
      "Cgb\n",
      "69.8\n",
      "74.15\n",
      "Cgb-HbB\n",
      "Cgb\n",
      "69.8\n",
      "74.15\n",
      "HbA2-Cgb\n",
      "Cgb\n",
      "69.8\n",
      "74.15\n",
      "HbA2-Mb\n",
      "Mb\n",
      "52.8\n"
     ]
    },
    {
     "ename": "KeyError",
     "evalue": "'HbB-Mb'",
     "output_type": "error",
     "traceback": [
      "\u001b[1;31m---------------------------------------------------------------------------\u001b[0m",
      "\u001b[1;31mKeyError\u001b[0m                                  Traceback (most recent call last)",
      "Cell \u001b[1;32mIn[25], line 56\u001b[0m\n\u001b[0;32m     54\u001b[0m mean_bit_scores \u001b[38;5;241m=\u001b[39m get_mean_bit_score(bit_scores)\n\u001b[0;32m     55\u001b[0m \u001b[38;5;28mprint\u001b[39m(mean_bit_scores)\n\u001b[1;32m---> 56\u001b[0m new_scores \u001b[38;5;241m=\u001b[39m \u001b[43mget_new_matrix\u001b[49m\u001b[43m(\u001b[49m\u001b[43mmean_bit_scores\u001b[49m\u001b[43m)\u001b[49m\n\u001b[0;32m     57\u001b[0m \u001b[38;5;28mprint\u001b[39m(new_scores)\n",
      "Cell \u001b[1;32mIn[25], line 45\u001b[0m, in \u001b[0;36mget_new_matrix\u001b[1;34m(bit_scores)\u001b[0m\n\u001b[0;32m     43\u001b[0m not_best_to_A \u001b[38;5;241m=\u001b[39m bit_scores[\u001b[38;5;124mf\u001b[39m\u001b[38;5;124m\"\u001b[39m\u001b[38;5;132;01m{\u001b[39;00mnot_best\u001b[38;5;132;01m}\u001b[39;00m\u001b[38;5;124m-\u001b[39m\u001b[38;5;132;01m{\u001b[39;00mA_best\u001b[38;5;132;01m}\u001b[39;00m\u001b[38;5;124m\"\u001b[39m] \u001b[38;5;28;01mif\u001b[39;00m \u001b[38;5;124mf\u001b[39m\u001b[38;5;124m\"\u001b[39m\u001b[38;5;132;01m{\u001b[39;00mnot_best\u001b[38;5;132;01m}\u001b[39;00m\u001b[38;5;124m-\u001b[39m\u001b[38;5;132;01m{\u001b[39;00mA_best\u001b[38;5;132;01m}\u001b[39;00m\u001b[38;5;124m\"\u001b[39m \u001b[38;5;129;01min\u001b[39;00m bit_scores \u001b[38;5;28;01melse\u001b[39;00m bit_scores[\u001b[38;5;124mf\u001b[39m\u001b[38;5;124m\"\u001b[39m\u001b[38;5;132;01m{\u001b[39;00mA_best\u001b[38;5;132;01m}\u001b[39;00m\u001b[38;5;124m-\u001b[39m\u001b[38;5;132;01m{\u001b[39;00mnot_best\u001b[38;5;132;01m}\u001b[39;00m\u001b[38;5;124m\"\u001b[39m]\n\u001b[0;32m     44\u001b[0m \u001b[38;5;28mprint\u001b[39m(not_best_to_A)\n\u001b[1;32m---> 45\u001b[0m not_best_to_B \u001b[38;5;241m=\u001b[39m bit_scores[\u001b[38;5;124mf\u001b[39m\u001b[38;5;124m\"\u001b[39m\u001b[38;5;132;01m{\u001b[39;00mnot_best\u001b[38;5;132;01m}\u001b[39;00m\u001b[38;5;124m-\u001b[39m\u001b[38;5;132;01m{\u001b[39;00mB_best\u001b[38;5;132;01m}\u001b[39;00m\u001b[38;5;124m\"\u001b[39m] \u001b[38;5;28;01mif\u001b[39;00m \u001b[38;5;124mf\u001b[39m\u001b[38;5;124m\"\u001b[39m\u001b[38;5;132;01m{\u001b[39;00mnot_best\u001b[38;5;132;01m}\u001b[39;00m\u001b[38;5;124m-\u001b[39m\u001b[38;5;132;01m{\u001b[39;00mB_best\u001b[38;5;132;01m}\u001b[39;00m\u001b[38;5;124m\"\u001b[39m \u001b[38;5;129;01min\u001b[39;00m bit_scores \u001b[38;5;28;01melse\u001b[39;00m \u001b[43mbit_scores\u001b[49m\u001b[43m[\u001b[49m\u001b[38;5;124;43mf\u001b[39;49m\u001b[38;5;124;43m\"\u001b[39;49m\u001b[38;5;132;43;01m{\u001b[39;49;00m\u001b[43mB_best\u001b[49m\u001b[38;5;132;43;01m}\u001b[39;49;00m\u001b[38;5;124;43m-\u001b[39;49m\u001b[38;5;132;43;01m{\u001b[39;49;00m\u001b[43mnot_best\u001b[49m\u001b[38;5;132;43;01m}\u001b[39;49;00m\u001b[38;5;124;43m\"\u001b[39;49m\u001b[43m]\u001b[49m\n\u001b[0;32m     46\u001b[0m \u001b[38;5;28mprint\u001b[39m(not_best_to_B)\n\u001b[0;32m     47\u001b[0m new_score \u001b[38;5;241m=\u001b[39m (not_best_to_A \u001b[38;5;241m+\u001b[39m not_best_to_B) \u001b[38;5;241m/\u001b[39m \u001b[38;5;241m2\u001b[39m\n",
      "\u001b[1;31mKeyError\u001b[0m: 'HbB-Mb'"
     ]
    }
   ],
   "source": [
    "    \n",
    "def get_bit_score_matrix(file_name):\n",
    "    with open(file_name, \"r\") as file:\n",
    "        protein_names = file.readline().strip().split('\\t')    \n",
    "        bit_scores = {}\n",
    "        for line in file.readlines():\n",
    "            for i,score in enumerate(line.strip().split('\\t')[1:]):\n",
    "                A = line.strip().split('\\t')[0]\n",
    "                B = protein_names[i]\n",
    "                if A != B:\n",
    "                    bit_scores[f'{A}-{B}'] = float(score)\n",
    "        return bit_scores\n",
    "\n",
    "def get_mean_bit_score(bit_scores):\n",
    "    mean_bit_scores = {}\n",
    "    items = list(bit_scores.items())\n",
    "    for key, value in items[:len(items)//2]:\n",
    "        A, B = key.split('-')\n",
    "        reverse_key = f\"{B}-{A}\"\n",
    "        value_1 = value\n",
    "        value_2 = bit_scores[reverse_key]\n",
    "        mean_bit_scores[f\"{A}-{B}\"] = (value_1 + value_2) / 2\n",
    "\n",
    "    return mean_bit_scores\n",
    "\n",
    "def get_new_matrix(bit_scores):\n",
    "    new_scores = {}\n",
    "    best_matching = max(bit_scores, key=bit_scores.get)\n",
    "    A_best,B_best = best_matching.split('-')\n",
    "    best_name = f'({best_matching})'\n",
    "    print(best_name)\n",
    "    del bit_scores[best_matching]\n",
    "\n",
    "    for key, value in bit_scores.items():\n",
    "\n",
    "        if (not A_best in key) and (not B_best in key):\n",
    "            #print(key)\n",
    "            new_scores[key] = value\n",
    "        else:\n",
    "            print(key)\n",
    "            A,B = key.split('-')\n",
    "            not_best = A if (B==A_best or B==B_best) else B\n",
    "            print(not_best)\n",
    "            not_best_to_A = bit_scores[f\"{not_best}-{A_best}\"] if f\"{not_best}-{A_best}\" in bit_scores else bit_scores[f\"{A_best}-{not_best}\"]\n",
    "            print(not_best_to_A)\n",
    "            not_best_to_B = bit_scores[f\"{not_best}-{B_best}\"] if f\"{not_best}-{B_best}\" in bit_scores else bit_scores[f\"{B_best}-{not_best}\"]\n",
    "            print(not_best_to_B)\n",
    "            new_score = (not_best_to_A + not_best_to_B) / 2\n",
    "            new_scores[f'{best_name}-not_best'] = new_score\n",
    "    return new_scores\n",
    "\n",
    "\n",
    "\n",
    "bit_scores = get_bit_score_matrix(\"bit_score_matrix.tsv\")\n",
    "mean_bit_scores = get_mean_bit_score(bit_scores)\n",
    "print(mean_bit_scores)\n",
    "new_scores = get_new_matrix(mean_bit_scores)\n",
    "print(new_scores)\n"
   ]
  }
 ],
 "metadata": {
  "kernelspec": {
   "display_name": "Python (bioinfo)",
   "language": "python",
   "name": "bioinfo"
  },
  "language_info": {
   "codemirror_mode": {
    "name": "ipython",
    "version": 3
   },
   "file_extension": ".py",
   "mimetype": "text/x-python",
   "name": "python",
   "nbconvert_exporter": "python",
   "pygments_lexer": "ipython3",
   "version": "3.9.21"
  }
 },
 "nbformat": 4,
 "nbformat_minor": 5
}
